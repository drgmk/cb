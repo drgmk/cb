{
 "cells": [
  {
   "cell_type": "markdown",
   "metadata": {},
   "source": [
    "#Experiment - degrade knowledge of e and i params and see if we can still pick up K35."
   ]
  },
  {
   "cell_type": "code",
   "execution_count": 1,
   "metadata": {
    "collapsed": true
   },
   "outputs": [],
   "source": [
    "#can we find K34 while assuming basic values for the e and i parameters?\n",
    "import copy\n",
    "import numpy as np\n",
    "import emcee\n",
    "import corner\n",
    "import matplotlib.pyplot as p\n",
    "import astropy.units as u\n",
    "import funcs\n",
    "\n",
    "%matplotlib notebook\n",
    "%load_ext autoreload\n",
    "%autoreload 2"
   ]
  },
  {
   "cell_type": "code",
   "execution_count": 75,
   "metadata": {},
   "outputs": [
    {
     "name": "stdout",
     "output_type": "stream",
     "text": [
      "20.7316772617\n",
      "131.43772562486816\n"
     ]
    }
   ],
   "source": [
    "# Kepler 35\n",
    "cb = funcs.CBSystem(m1 = 0.8877,f1 = 1.,m2 = 0.8094,f2 = 0.3941,\n",
    "                    ab = 0.17617,r1 = 1.0284 * u.Rsun.to('au'),r2 = 0.7861 * u.Rsun.to('au'),\n",
    "                    eb = 0.1421,ib = np.deg2rad(90.4238),wb = 1.507,\n",
    "                    fb = 0.06543,\n",
    "                    mp = 0.127 * u.Mjup.to('Msun'),ap = 0.60347,rp = 0.728 * u.Rjupiter.to('au'),ep = 0.042,\n",
    "                    ip = np.deg2rad(90.76),wp = 1.1541,fp = 1.3069,\n",
    "                    Wp = np.deg2rad(-1.24),\n",
    "                    t0 = 2454965.8500)\n",
    "ab0 = cb.ab\n",
    "mb0 = cb.m1 + cb.m2\n",
    "p_p0 = (cb.ap**3/(cb.m1+cb.m2))**(1./2.)*365.25 #in days\n",
    "fp0 = 1.3069\n",
    "ip0 = np.deg2rad(90.76)\n",
    "print(1/np.sqrt( (cb.m1+cb.m2)/cb.ab**3 )*365.25)\n",
    "print(p_p0)\n",
    "\n",
    "timing_precision = 30./86400./365.25 * (2*np.pi)  #in years/2pi\n",
    "dt = 0.02\n",
    "t = np.arange(2454953,2456424,dt)\n"
   ]
  },
  {
   "cell_type": "code",
   "execution_count": 76,
   "metadata": {},
   "outputs": [
    {
     "name": "stdout",
     "output_type": "stream",
     "text": [
      "[ 2455332.87041014  2455460.2174625   2455586.42187743  2455712.356026\n",
      "  2455838.3220782   2455964.64963706  2456092.50592814]\n"
     ]
    }
   ],
   "source": [
    "# make the reference stacked light curve set\n",
    "\n",
    "#tts = funcs.reb_cb_c(cb,tmin=np.min(t),tmax=np.max(t))\n",
    "tts = funcs.reb_cb(cb,tmin=np.min(t),tmax=np.max(t))\n",
    "tts_2,tds_2 = funcs.reb_cb_dvm(cb,0,2,tmin=np.min(t),tmax=np.max(t), timing_precision=timing_precision)\n",
    "    \n",
    "ok = tts[:,0] == 20\n",
    "#ref_tts = tts[ok]\n",
    "ref_tts = tts_2[tds_2>0]\n",
    "ref_tds = tds_2[tds_2>0]\n",
    "print(ref_tts)"
   ]
  },
  {
   "cell_type": "code",
   "execution_count": 77,
   "metadata": {
    "collapsed": true
   },
   "outputs": [],
   "source": [
    "#degrading our knowledge (assume we know eb and wb):\n",
    "#for now, radii left as we know them - this will change transit durations, and whether some marginal transits happen.\n",
    "\n",
    "cb.ib = np.pi/2.\n",
    "cb.ip = np.pi/2.\n",
    "cb.Wp = 0.0\n",
    "cb.ep = 0.0\n",
    "#cb.wp left as is because it defines f_p\n",
    "cb.mp = 0.0\n",
    "\n"
   ]
  },
  {
   "cell_type": "code",
   "execution_count": 78,
   "metadata": {},
   "outputs": [
    {
     "name": "stdout",
     "output_type": "stream",
     "text": [
      "[1.6971]\n",
      "[0.9117945251774248]\n"
     ]
    }
   ],
   "source": [
    "#now scan across m2/m1, m1+m2, p_p, f_p, as if we were searching.\n",
    "#mratset = np.linspace(cb.m2/cb.m1*0.9,cb.m2/cb.m1*1.1,21)\n",
    "#mtotset = np.linspace(cb.m2+cb.m1*0.5,cb.m1+cb.m2*1.5,5)\n",
    "mratset = [cb.m2/cb.m1]\n",
    "mtotset = [cb.m2+cb.m1]\n",
    "\n",
    "ppset = np.linspace(p_p0*0.97,p_p0*1.03,101)\n",
    "fpset = np.linspace(cb.fp*0.98,cb.fp*1.02,11)\n",
    "ipset = np.linspace(np.deg2rad(89.0),np.deg2rad(91.0),41)\n",
    "dt = 0.02\n",
    "t = np.arange(2454953,2456424,dt)\n",
    "\n",
    "print(mtotset)\n",
    "print(mratset)"
   ]
  },
  {
   "cell_type": "code",
   "execution_count": 79,
   "metadata": {},
   "outputs": [
    {
     "name": "stdout",
     "output_type": "stream",
     "text": [
      "0.9117945251774248\n"
     ]
    },
    {
     "ename": "KeyboardInterrupt",
     "evalue": "",
     "output_type": "error",
     "traceback": [
      "\u001b[0;31m---------------------------------------------------------------------------\u001b[0m",
      "\u001b[0;31mKeyboardInterrupt\u001b[0m                         Traceback (most recent call last)",
      "\u001b[0;32m<ipython-input-79-710f290fe8f9>\u001b[0m in \u001b[0;36m<module>\u001b[0;34m()\u001b[0m\n\u001b[1;32m     32\u001b[0m                     \u001b[0mcb\u001b[0m\u001b[0;34m.\u001b[0m\u001b[0mip\u001b[0m \u001b[0;34m=\u001b[0m \u001b[0mip\u001b[0m\u001b[0;34m\u001b[0m\u001b[0m\n\u001b[1;32m     33\u001b[0m                     ttimes, tdurs = funcs.reb_cb_dvm(cb, 0, 2, tmin=np.min(t), \n\u001b[0;32m---> 34\u001b[0;31m                                                 tmax=np.max(t), timing_precision=timing_precision)\n\u001b[0m\u001b[1;32m     35\u001b[0m \u001b[0;34m\u001b[0m\u001b[0m\n\u001b[1;32m     36\u001b[0m                     \u001b[0mtts_all\u001b[0m\u001b[0;34m[\u001b[0m\u001b[0mmrat\u001b[0m\u001b[0;34m]\u001b[0m\u001b[0;34m[\u001b[0m\u001b[0mmtot\u001b[0m\u001b[0;34m]\u001b[0m\u001b[0;34m[\u001b[0m\u001b[0mstr\u001b[0m\u001b[0;34m(\u001b[0m\u001b[0mpp\u001b[0m\u001b[0;34m)\u001b[0m\u001b[0;34m[\u001b[0m\u001b[0;34m:\u001b[0m\u001b[0;36m6\u001b[0m\u001b[0;34m]\u001b[0m\u001b[0;34m]\u001b[0m\u001b[0;34m[\u001b[0m\u001b[0mstr\u001b[0m\u001b[0;34m(\u001b[0m\u001b[0mfp\u001b[0m\u001b[0;34m)\u001b[0m\u001b[0;34m[\u001b[0m\u001b[0;34m:\u001b[0m\u001b[0;36m6\u001b[0m\u001b[0;34m]\u001b[0m\u001b[0;34m]\u001b[0m\u001b[0;34m[\u001b[0m\u001b[0mstr\u001b[0m\u001b[0;34m(\u001b[0m\u001b[0mip\u001b[0m\u001b[0;34m)\u001b[0m\u001b[0;34m[\u001b[0m\u001b[0;34m:\u001b[0m\u001b[0;36m6\u001b[0m\u001b[0;34m]\u001b[0m\u001b[0;34m]\u001b[0m \u001b[0;34m=\u001b[0m \u001b[0mttimes\u001b[0m\u001b[0;34m[\u001b[0m\u001b[0mtdurs\u001b[0m\u001b[0;34m>\u001b[0m\u001b[0;36m0\u001b[0m\u001b[0;34m]\u001b[0m\u001b[0;34m\u001b[0m\u001b[0m\n",
      "\u001b[0;32m~/Software/git-repos/cb/funcs.py\u001b[0m in \u001b[0;36mreb_cb_dvm\u001b[0;34m(cb, baseBody, transitingBody, tmin, tmax, timing_precision)\u001b[0m\n\u001b[1;32m    255\u001b[0m         \u001b[0mt_old\u001b[0m \u001b[0;34m=\u001b[0m \u001b[0msim\u001b[0m\u001b[0;34m.\u001b[0m\u001b[0mt\u001b[0m\u001b[0;34m\u001b[0m\u001b[0m\n\u001b[1;32m    256\u001b[0m         \u001b[0;31m# Integrate over a quarter of the planet's period\u001b[0m\u001b[0;34m\u001b[0m\u001b[0;34m\u001b[0m\u001b[0m\n\u001b[0;32m--> 257\u001b[0;31m         \u001b[0msim\u001b[0m\u001b[0;34m.\u001b[0m\u001b[0mintegrate\u001b[0m\u001b[0;34m(\u001b[0m\u001b[0msim\u001b[0m\u001b[0;34m.\u001b[0m\u001b[0mt\u001b[0m \u001b[0;34m+\u001b[0m \u001b[0mP_transiter\u001b[0m\u001b[0;34m/\u001b[0m\u001b[0;36m4.\u001b[0m\u001b[0;34m)\u001b[0m\u001b[0;34m\u001b[0m\u001b[0m\n\u001b[0m\u001b[1;32m    258\u001b[0m         \u001b[0;31m# Calculate a new position and time\u001b[0m\u001b[0;34m\u001b[0m\u001b[0;34m\u001b[0m\u001b[0m\n\u001b[1;32m    259\u001b[0m         \u001b[0mx_new\u001b[0m \u001b[0;34m=\u001b[0m \u001b[0mp\u001b[0m\u001b[0;34m[\u001b[0m\u001b[0mtransitingBody\u001b[0m\u001b[0;34m]\u001b[0m\u001b[0;34m.\u001b[0m\u001b[0mx\u001b[0m \u001b[0;34m-\u001b[0m \u001b[0mp\u001b[0m\u001b[0;34m[\u001b[0m\u001b[0mbaseBody\u001b[0m\u001b[0;34m]\u001b[0m\u001b[0;34m.\u001b[0m\u001b[0mx\u001b[0m \u001b[0;31m# old x position of the transiting body with respect to the base body\u001b[0m\u001b[0;34m\u001b[0m\u001b[0m\n",
      "\u001b[0;32m~/anaconda/lib/python3.6/site-packages/rebound/simulation.py\u001b[0m in \u001b[0;36mintegrate\u001b[0;34m(self, tmax, exact_finish_time)\u001b[0m\n\u001b[1;32m   1386\u001b[0m                 \u001b[0;32mraise\u001b[0m \u001b[0mEscape\u001b[0m\u001b[0;34m(\u001b[0m\u001b[0;34m\"User caused exit. Simulation did not finish.\"\u001b[0m\u001b[0;34m)\u001b[0m \u001b[0;31m# should not occur in python\u001b[0m\u001b[0;34m\u001b[0m\u001b[0m\n\u001b[1;32m   1387\u001b[0m             \u001b[0;32mif\u001b[0m \u001b[0mret_value\u001b[0m \u001b[0;34m==\u001b[0m \u001b[0;36m6\u001b[0m\u001b[0;34m:\u001b[0m\u001b[0;34m\u001b[0m\u001b[0m\n\u001b[0;32m-> 1388\u001b[0;31m                 \u001b[0;32mraise\u001b[0m \u001b[0mKeyboardInterrupt\u001b[0m\u001b[0;34m\u001b[0m\u001b[0m\n\u001b[0m\u001b[1;32m   1389\u001b[0m             \u001b[0;32mif\u001b[0m \u001b[0mret_value\u001b[0m \u001b[0;34m==\u001b[0m \u001b[0;36m7\u001b[0m\u001b[0;34m:\u001b[0m\u001b[0;34m\u001b[0m\u001b[0m\n\u001b[1;32m   1390\u001b[0m                 \u001b[0;32mraise\u001b[0m \u001b[0mCollision\u001b[0m\u001b[0;34m(\u001b[0m\u001b[0;34m\"Two particles collided (d < r1+r2)\"\u001b[0m\u001b[0;34m)\u001b[0m\u001b[0;34m\u001b[0m\u001b[0m\n",
      "\u001b[0;31mKeyboardInterrupt\u001b[0m: "
     ]
    }
   ],
   "source": [
    "tts_all = {}\n",
    "tds_all = {}\n",
    "\n",
    "#horrible for loop filling in a 7 fold dict of dicts\n",
    "for mrat in mratset:\n",
    "    print(mrat)\n",
    "    if mrat not in tts_all.keys():\n",
    "        tts_all[mrat] = {}\n",
    "        tds_all[mrat] = {}\n",
    "        \n",
    "    for mtot in mtotset:\n",
    "        cb.m2 = mtot / (1 + 1./mrat)\n",
    "        cb.m1 = mtot / (1 + mrat)\n",
    "        cb.ab = ab0 * ( (cb.m1+cb.m2)/mb0 )**(1/3.) #force pb to be fixed\n",
    "        \n",
    "        if mtot not in tts_all[mrat].keys():\n",
    "            tts_all[mrat][mtot] = {}\n",
    "            tds_all[mrat][mtot] = {}\n",
    "            \n",
    "        for pp in ppset:\n",
    "            cb.ap = ( mtot * (pp/365.25)**2 )**(1./3.)\n",
    "  \n",
    "            if pp not in tts_all[mrat][mtot].keys():\n",
    "                tts_all[mrat][mtot][str(pp)[:6]] = {}\n",
    "                tds_all[mrat][mtot][str(pp)[:6]] = {}  \n",
    "                \n",
    "            for fp in fpset:\n",
    "                cb.fp = fp\n",
    "                if fp not in tts_all[mrat][mtot][str(pp)[:6]].keys():\n",
    "                    tts_all[mrat][mtot][str(pp)[:6]][str(fp)[:6]] = {}\n",
    "                    tds_all[mrat][mtot][str(pp)[:6]][str(fp)[:6]] = {}  \n",
    "                    \n",
    "                for ip in ipset:\n",
    "                    cb.ip = ip\n",
    "                    ttimes, tdurs = funcs.reb_cb_dvm(cb, 0, 2, tmin=np.min(t), \n",
    "                                                tmax=np.max(t), timing_precision=timing_precision)\n",
    "                            \n",
    "                    tts_all[mrat][mtot][str(pp)[:6]][str(fp)[:6]][str(ip)[:6]] = ttimes[tdurs>0]\n",
    "                    tds_all[mrat][mtot][str(pp)[:6]][str(fp)[:6]][str(ip)[:6]] = tdurs[tdurs>0]"
   ]
  },
  {
   "cell_type": "code",
   "execution_count": 72,
   "metadata": {},
   "outputs": [],
   "source": [
    "#make statistic from transit times and durs\n",
    "\n",
    "timediffs = np.zeros([len(mratset),len(mtotset),len(ppset),len(fpset),len(ipset)])\n",
    "durdiffs = np.zeros([len(mratset),len(mtotset),len(ppset),len(fpset),len(ipset)])\n",
    "losttransits = np.zeros([len(mratset),len(mtotset),len(ppset),len(fpset),len(ipset)])\n",
    "overlap = np.zeros([len(mratset),len(mtotset),len(ppset),len(fpset),len(ipset)])\n",
    "                   \n",
    "#horrible for loop\n",
    "for imr,mrat in enumerate(mratset):\n",
    "    for imt,mtot in enumerate(mtotset):\n",
    "        for ipp,pp in enumerate(ppset):\n",
    "            for ifp,fp in enumerate(fpset):\n",
    "                for iip,ip in enumerate(ipset):\n",
    "                \n",
    "                    #check against ref_tts\n",
    "                    #save difference, in tts and tds, across all transits. \n",
    "                    #save number of transits lost (or gained)\n",
    "                    diff = 0\n",
    "                    ddiff = 0\n",
    "                    tlost = 0\n",
    "                    for ref_tt,ref_td in zip(ref_tts,ref_tds):\n",
    "                        tts = tts_all[mrat][mtot][str(pp)[:6]][str(fp)[:6]][str(ip)[:6]]\n",
    "                        tds = tds_all[mrat][mtot][str(pp)[:6]][str(fp)[:6]][str(ip)[:6]]\n",
    "                        if len(tts)>0:\n",
    "                            if np.min(np.abs(tts - ref_tt)) < pp/4.: #then we have a transit\n",
    "                                tidx = np.argmin(np.abs(tts - ref_tt))\n",
    "                                diff += np.abs(ref_tt - tts[tidx])\n",
    "                                ddiff += np.abs(ref_td - tds[tidx])\n",
    "                                olap = np.min([ref_tt+ref_td/2.,tts[tidx]+tds[tidx]/2.]) - np.max([ref_tt-ref_td/2.,tts[tidx]-tds[tidx]/2.])\n",
    "                                if olap < 0: olap = 0\n",
    "                                #calculate fraction of overlap with reference\n",
    "                                overlap[imr,imt,ipp,ifp,iip] += olap  \n",
    "                            else:\n",
    "                                tlost +=1\n",
    "                        else:\n",
    "                            tlost = len(ref_tts)\n",
    "                            overlap[imr,imt,ipp,ifp,iip] = 0 \n",
    "                    if (len(ref_tts)-tlost) > 0:\n",
    "                        timediffs[imr,imt,ipp,ifp,iip] = diff / (len(ref_tts)-tlost)\n",
    "                        durdiffs[imr,imt,ipp,ifp,iip] = ddiff / (len(ref_tts)-tlost)\n",
    "                    else:\n",
    "                        timediffs[imr,imt,ipp,ifp,iip] = 1000.\n",
    "                        durdiffs[imr,imt,ipp,ifp,iip] = 1000.                        \n",
    "                    losttransits[imr,imt,ipp,ifp,iip] = tlost        \n",
    "                    \n",
    "                \n",
    "                "
   ]
  },
  {
   "cell_type": "code",
   "execution_count": 73,
   "metadata": {},
   "outputs": [
    {
     "name": "stdout",
     "output_type": "stream",
     "text": [
      "[ 2455332.87041014  2455460.2174625   2455586.42187743  2455712.356026\n",
      "  2455838.3220782   2455964.64963706  2456092.50592814]\n",
      "[ 2455072.15072068  2455198.03945609  2455324.05726218  2455450.30897101\n",
      "  2455577.07292279  2455705.57034027  2455834.79774437  2455961.77398611\n",
      "  2456088.10871223  2456214.17883335  2456340.1109963 ]\n",
      "[ 0.48850902  0.23723435  0.181051    0.17016807  0.18964684  0.25943775\n",
      "  0.54551647]\n",
      "[ 0.20330538  0.22945058  0.27425698  0.35990815  0.57340739  1.38966328\n",
      "  0.66839148  0.38132619  0.27927115  0.22882231  0.20048077]\n",
      "(1, 101, 11, 41)\n",
      "0.0\n",
      "[ 6.09287326  6.23622742  6.37958158  6.52192579  6.66242325  6.80081426\n",
      "  6.93695454  7.07133464  7.20432967  7.33657445  7.4685884 ]\n",
      "[ 127.34705236  126.20441494  125.93414857  125.96605219  126.32755886\n",
      "  127.85629109]\n"
     ]
    }
   ],
   "source": [
    "print(ref_tts)\n",
    "tt = tts_all[mratset[0]][mtotset[0]][str(ppset[40])[:6]][str(fpset[3])[:6]][str(ipset[20])[:6]]\n",
    "print(tt)\n",
    "print(ref_tds)\n",
    "td = tds_all[mratset[0]][mtotset[0]][str(ppset[40])[:6]][str(fpset[3])[:6]][str(ipset[20])[:6]]\n",
    "print(td)\n",
    "print(timediffs[0].shape)\n",
    "#print(ref_tts-tt)\n",
    "print(overlap[0,0,40,3,20])\n",
    "print(timediffs[0,0,40,:,20])\n",
    "#losttransits[10,3,49,:]\n",
    "#durdiffs[10,3,49,:]\n",
    "#np.max(overlap)\n",
    "print(np.diff(ref_tts))"
   ]
  },
  {
   "cell_type": "code",
   "execution_count": 80,
   "metadata": {},
   "outputs": [
    {
     "ename": "IndexError",
     "evalue": "index 40 is out of bounds for axis 1 with size 1",
     "output_type": "error",
     "traceback": [
      "\u001b[0;31m---------------------------------------------------------------------------\u001b[0m",
      "\u001b[0;31mIndexError\u001b[0m                                Traceback (most recent call last)",
      "\u001b[0;32m<ipython-input-80-ce6e4cbec206>\u001b[0m in \u001b[0;36m<module>\u001b[0;34m()\u001b[0m\n\u001b[1;32m      6\u001b[0m \u001b[0;32mfor\u001b[0m \u001b[0mpps\u001b[0m \u001b[0;32min\u001b[0m \u001b[0mrange\u001b[0m\u001b[0;34m(\u001b[0m\u001b[0mlen\u001b[0m\u001b[0;34m(\u001b[0m\u001b[0mppset\u001b[0m\u001b[0;34m)\u001b[0m\u001b[0;34m)\u001b[0m\u001b[0;34m:\u001b[0m\u001b[0;34m\u001b[0m\u001b[0m\n\u001b[1;32m      7\u001b[0m     \u001b[0;32mfor\u001b[0m \u001b[0mips\u001b[0m \u001b[0;32min\u001b[0m \u001b[0mrange\u001b[0m\u001b[0;34m(\u001b[0m\u001b[0mlen\u001b[0m\u001b[0;34m(\u001b[0m\u001b[0mipset\u001b[0m\u001b[0;34m)\u001b[0m\u001b[0;34m)\u001b[0m\u001b[0;34m:\u001b[0m\u001b[0;34m\u001b[0m\u001b[0m\n\u001b[0;32m----> 8\u001b[0;31m         \u001b[0mtimediff_minim\u001b[0m\u001b[0;34m[\u001b[0m\u001b[0mpps\u001b[0m\u001b[0;34m,\u001b[0m\u001b[0mips\u001b[0m\u001b[0;34m]\u001b[0m \u001b[0;34m=\u001b[0m \u001b[0mnp\u001b[0m\u001b[0;34m.\u001b[0m\u001b[0mmin\u001b[0m\u001b[0;34m(\u001b[0m\u001b[0mtimediffs\u001b[0m\u001b[0;34m[\u001b[0m\u001b[0mmratidx\u001b[0m\u001b[0;34m,\u001b[0m\u001b[0mmtotidx\u001b[0m\u001b[0;34m,\u001b[0m\u001b[0mpps\u001b[0m\u001b[0;34m,\u001b[0m\u001b[0;34m:\u001b[0m\u001b[0;34m,\u001b[0m\u001b[0mips\u001b[0m\u001b[0;34m]\u001b[0m\u001b[0;34m)\u001b[0m\u001b[0;34m\u001b[0m\u001b[0m\n\u001b[0m\u001b[1;32m      9\u001b[0m         \u001b[0moverlap_maxim\u001b[0m\u001b[0;34m[\u001b[0m\u001b[0mpps\u001b[0m\u001b[0;34m,\u001b[0m\u001b[0mips\u001b[0m\u001b[0;34m]\u001b[0m \u001b[0;34m=\u001b[0m \u001b[0mnp\u001b[0m\u001b[0;34m.\u001b[0m\u001b[0mmax\u001b[0m\u001b[0;34m(\u001b[0m\u001b[0moverlap\u001b[0m\u001b[0;34m[\u001b[0m\u001b[0mmratidx\u001b[0m\u001b[0;34m,\u001b[0m\u001b[0mmtotidx\u001b[0m\u001b[0;34m,\u001b[0m\u001b[0mpps\u001b[0m\u001b[0;34m,\u001b[0m\u001b[0;34m:\u001b[0m\u001b[0;34m,\u001b[0m\u001b[0mips\u001b[0m\u001b[0;34m]\u001b[0m\u001b[0;34m)\u001b[0m\u001b[0;34m\u001b[0m\u001b[0m\n\u001b[1;32m     10\u001b[0m \u001b[0;34m\u001b[0m\u001b[0m\n",
      "\u001b[0;31mIndexError\u001b[0m: index 40 is out of bounds for axis 1 with size 1"
     ]
    }
   ],
   "source": [
    "mratidx = 0\n",
    "mtotidx = 0\n",
    "\n",
    "timediff_minim = np.zeros([len(ppset),len(ipset)])\n",
    "overlap_maxim = np.zeros([len(ppset),len(ipset)])\n",
    "for pps in range(len(ppset)):\n",
    "    for ips in range(len(ipset)):\n",
    "        timediff_minim[pps,ips] = np.min(timediffs[mratidx,mtotidx,pps,:,ips])\n",
    "        overlap_maxim[pps,ips] = np.max(overlap[mratidx,mtotidx,pps,:,ips])\n",
    "\n",
    "timediff_minim[timediff_minim>500] = 20.\n",
    "timediffs[timediffs>500] = 20\n",
    "#plots\n",
    "p.figure()\n",
    "palette = p.cm.viridis\n",
    "palette.set_over('grey', 500.0)\n",
    "p.imshow(timediffs[mratidx,mtotidx,:,3,:],origin='lower',\n",
    "         extent=[np.min(ipset),np.max(ipset),np.min(ppset),np.max(ppset)],\n",
    "         aspect='auto',cmap=palette)\n",
    "cbar = p.colorbar()\n",
    "cbar.set_label('Time Difference (avg per transit, days)', rotation=270, labelpad=10)\n",
    "p.ylabel('Planet_period')\n",
    "p.xlabel('ip')\n",
    "p.plot(ip0,p_p0,'rx')\n",
    "\n",
    "p.figure()\n",
    "palette = p.cm.viridis\n",
    "p.imshow(overlap_maxim,origin='lower',\n",
    "         extent=[np.min(ipset),np.max(ipset),np.min(ppset),np.max(ppset)],\n",
    "         aspect='auto',cmap=palette)\n",
    "cbar = p.colorbar()\n",
    "cbar.set_label('Overlap with real transits (days)', rotation=270, labelpad=10)\n",
    "p.ylabel('Planet_period')\n",
    "p.xlabel('ip')\n",
    "p.plot(ip0,p_p0,'rx')\n"
   ]
  },
  {
   "cell_type": "code",
   "execution_count": null,
   "metadata": {
    "collapsed": true
   },
   "outputs": [],
   "source": []
  }
 ],
 "metadata": {
  "kernelspec": {
   "display_name": "Python 3",
   "language": "python",
   "name": "python3"
  },
  "language_info": {
   "codemirror_mode": {
    "name": "ipython",
    "version": 3
   },
   "file_extension": ".py",
   "mimetype": "text/x-python",
   "name": "python",
   "nbconvert_exporter": "python",
   "pygments_lexer": "ipython3",
   "version": "3.6.2"
  }
 },
 "nbformat": 4,
 "nbformat_minor": 2
}
