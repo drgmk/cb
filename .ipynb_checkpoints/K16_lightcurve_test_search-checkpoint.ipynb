{
 "cells": [
  {
   "cell_type": "markdown",
   "metadata": {},
   "source": [
    "# Applying search to K16 lightcurve"
   ]
  },
  {
   "cell_type": "code",
   "execution_count": 1,
   "metadata": {
    "collapsed": true
   },
   "outputs": [],
   "source": [
    "#can we find K16 while assuming basic values for the e and i parameters?\n",
    "import copy\n",
    "import numpy as np\n",
    "import matplotlib.pyplot as p\n",
    "import astropy.units as u\n",
    "import funcs\n",
    "\n",
    "%matplotlib notebook\n",
    "%load_ext autoreload\n",
    "%autoreload 2"
   ]
  },
  {
   "cell_type": "code",
   "execution_count": 4,
   "metadata": {},
   "outputs": [],
   "source": [
    "#Load lightcurve\n",
    "\n",
    "lc = np.genfromtxt('K16_clean_noecl.txt')\n",
    "time = lc[:,0]\n",
    "flux = lc[:,1]\n",
    "err = lc[:,2]"
   ]
  },
  {
   "cell_type": "code",
   "execution_count": 2,
   "metadata": {},
   "outputs": [
    {
     "name": "stdout",
     "output_type": "stream",
     "text": [
      "41.0790034492\n",
      "228.79461019691053\n"
     ]
    }
   ],
   "source": [
    "# Kepler 16\n",
    "cb = funcs.CBSystem(m1 = 0.6897,f1 = 1.,m2 = 0.20255,f2 = 0.01555,\n",
    "                    ab = 0.22431,r1 = 0.6489 * u.Rsun.to('au'),r2 = 0.22623 * u.Rsun.to('au'),\n",
    "                    eb = 0.15944,ib = np.deg2rad(90.3401),wb = np.deg2rad(263.464),\n",
    "                    fb = np.deg2rad(186.53239),\n",
    "                    mp = .03e-3,ap = 0.7048,rp = 0.7538 * u.Rjupiter.to('au'),ep = 0.0069,\n",
    "                    ip = np.deg2rad(90.0322),wp = np.deg2rad(318.0),fp = np.deg2rad(148.92),\n",
    "                    Wp = np.deg2rad(0.003),\n",
    "                    t0 = 2455212.12316)\n",
    "ab0 = cb.ab\n",
    "mb0 = cb.m1 + cb.m2\n",
    "p_p0 = (cb.ap**3/(cb.m1+cb.m2))**(1./2.)*365.25 #in days\n",
    "fp0 = np.deg2rad(148.92)\n",
    "print(1/np.sqrt( (cb.m1+cb.m2)/cb.ab**3 )*365.25)\n",
    "print(p_p0)\n",
    "\n",
    "timing_precision = 30./86400./365.25 * (2*np.pi)  #in years/2pi\n",
    "dt = 0.02\n",
    "t = np.arange(2454953,2456424,dt)\n"
   ]
  },
  {
   "cell_type": "code",
   "execution_count": null,
   "metadata": {
    "collapsed": true
   },
   "outputs": [],
   "source": []
  }
 ],
 "metadata": {
  "kernelspec": {
   "display_name": "Python 3",
   "language": "python",
   "name": "python3"
  },
  "language_info": {
   "codemirror_mode": {
    "name": "ipython",
    "version": 3
   },
   "file_extension": ".py",
   "mimetype": "text/x-python",
   "name": "python",
   "nbconvert_exporter": "python",
   "pygments_lexer": "ipython3",
   "version": "3.6.2"
  }
 },
 "nbformat": 4,
 "nbformat_minor": 2
}
