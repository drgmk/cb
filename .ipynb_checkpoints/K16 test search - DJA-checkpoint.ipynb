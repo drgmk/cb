{
 "cells": [
  {
   "cell_type": "code",
   "execution_count": 19,
   "metadata": {},
   "outputs": [
    {
     "name": "stdout",
     "output_type": "stream",
     "text": [
      "The autoreload extension is already loaded. To reload it, use:\n",
      "  %reload_ext autoreload\n"
     ]
    }
   ],
   "source": [
    "#can we find K16 while assuming basic values for the e and i parameters?\n",
    "import copy\n",
    "import numpy as np\n",
    "import emcee\n",
    "import corner\n",
    "import matplotlib.pyplot as p\n",
    "import astropy.units as u\n",
    "import funcs\n",
    "\n",
    "%matplotlib notebook\n",
    "%load_ext autoreload\n",
    "%autoreload 2"
   ]
  },
  {
   "cell_type": "code",
   "execution_count": 22,
   "metadata": {},
   "outputs": [
    {
     "name": "stdout",
     "output_type": "stream",
     "text": [
      "41.0790034492\n",
      "228.79461019691053\n"
     ]
    }
   ],
   "source": [
    "# Kepler 16\n",
    "cb = funcs.CBSystem(m1 = 0.6897,f1 = 1.,m2 = 0.20255,f2 = 0.01555,\n",
    "                    ab = 0.22431,r1 = 0.6489 * u.Rsun.to('au'),r2 = 0.22623 * u.Rsun.to('au'),\n",
    "                    eb = 0.15944,ib = np.deg2rad(90.3401),wb = np.deg2rad(263.464),\n",
    "                    fb = np.deg2rad(186.53239),\n",
    "                    mp = .03e-3,ap = 0.7048,rp = 0.7538 * u.Rjupiter.to('au'),ep = 0.0069,\n",
    "                    ip = np.deg2rad(90.0322),wp = np.deg2rad(318.0),fp = np.deg2rad(148.92),\n",
    "                    Wp = np.deg2rad(0.003),\n",
    "                    t0 = 2455212.12316)\n",
    "ab0 = cb.ab\n",
    "mb0 = cb.m1 + cb.m2\n",
    "p_p0 = (cb.ap**3/(cb.m1+cb.m2))**(1./2.)*365.25 #in days\n",
    "\n",
    "print(1/np.sqrt( (cb.m1+cb.m2)/cb.ab**3 )*365.25)\n",
    "print(p_p0)\n",
    "\n",
    "timing_precision = 30./86400./365.25 * (2*np.pi)  #in years/2pi"
   ]
  },
  {
   "cell_type": "code",
   "execution_count": 21,
   "metadata": {},
   "outputs": [
    {
     "name": "stdout",
     "output_type": "stream",
     "text": [
      "20.7316772617\n",
      "131.43772562486816\n"
     ]
    }
   ],
   "source": [
    "# Kepler 35\n",
    "cb = funcs.CBSystem(m1 = 0.8877,f1 = 1.,m2 = 0.8094,f2 = 0.3941,\n",
    "                    ab = 0.17617,r1 = 1.0284 * u.Rsun.to('au'),r2 = 0.7861 * u.Rsun.to('au'),\n",
    "                    eb = 0.1421,ib = np.deg2rad(90.4238),wb = 1.507,\n",
    "                    fb = 0.06543,\n",
    "                    mp = 0.127 * u.Mjup.to('Msun'),ap = 0.60347,rp = 0.728 * u.Rjupiter.to('au'),ep = 0.042,\n",
    "                    ip = np.deg2rad(90.76),wp = 1.1541,fp = 1.3069,\n",
    "                    Wp = np.deg2rad(-1.24),\n",
    "                    t0 = 2454965.8500)\n",
    "ab0 = cb.ab\n",
    "mb0 = cb.m1 + cb.m2\n",
    "p_p0 = (cb.ap**3/(cb.m1+cb.m2))**(1./2.)*365.25 #in days\n",
    "\n",
    "print(1/np.sqrt( (cb.m1+cb.m2)/cb.ab**3 )*365.25)\n",
    "print(p_p0)\n",
    "\n",
    "timing_precision = 30./86400./365.25 * (2*np.pi)  #in years/2pi"
   ]
  },
  {
   "cell_type": "code",
   "execution_count": 9,
   "metadata": {},
   "outputs": [
    {
     "name": "stdout",
     "output_type": "stream",
     "text": [
      "41.0790034492\n",
      "228.79461019691053\n"
     ]
    }
   ],
   "source": [
    "#Kepler 34\n",
    "cb = funcs.CBSystem(m1 = 1.0479,f1 = 1.,m2 = 1.0208,f2 = 0.8475,\n",
    "                    ab = 0.22882,r1 = 1.1618 * u.Rsun.to('au'),r2 = 1.0927 * u.Rsun.to('au'),\n",
    "                    eb = 0.52087,ib = np.deg2rad(89.8584),wb = 1.2468,\n",
    "                    fb = 3.4675,\n",
    "                    mp = 0.220 * u.Mjup.to('Msun'),ap = 1.0896,rp = 0.764 * u.Rjupiter.to('au'),ep = 0.182,\n",
    "                    ip = np.deg2rad(90.355),wp = 0.1378,fp = 2.0623,\n",
    "                    Wp = np.deg2rad(-1.74),\n",
    "                    t0 = 2454969.2000)ab0 = cb.ab\n",
    "mb0 = cb.m1 + cb.m2\n",
    "p_p0 = (cb.ap**3/(cb.m1+cb.m2))**(1./2.)*365.25 #in days\n",
    "\n",
    "print(1/np.sqrt( (cb.m1+cb.m2)/cb.ab**3 )*365.25)\n",
    "print(p_p0)\n",
    "\n",
    "timing_precision = 30./86400./365.25 * (2*np.pi)  #in years/2pi"
   ]
  },
  {
   "cell_type": "code",
   "execution_count": 23,
   "metadata": {
    "collapsed": true
   },
   "outputs": [],
   "source": [
    "# make the reference stacked light curve set\n",
    "\n",
    "#tts = funcs.reb_cb_c(cb,tmin=np.min(t),tmax=np.max(t))\n",
    "tts = funcs.reb_cb(cb,tmin=np.min(t),tmax=np.max(t))\n",
    "tts_2,tds_2 = funcs.reb_cb_dvm(cb,0,2,tmin=np.min(t),tmax=np.max(t), timing_precision=timing_precision)\n",
    "    \n",
    "ok = tts[:,0] == 20\n",
    "#ref_tts = tts[ok]\n",
    "ref_tts = tts_2[tds_2>0]\n",
    "ref_tds = tds_2[tds_2>0]\n"
   ]
  },
  {
   "cell_type": "code",
   "execution_count": 24,
   "metadata": {
    "collapsed": true
   },
   "outputs": [],
   "source": [
    "#degrading our knowledge (assume we know eb and wb):\n",
    "#for now, radii left as we know them - this will change transit durations, and whether some marginal transits happen.\n",
    "\n",
    "cb.ib = np.pi/2.\n",
    "cb.ip = np.pi/2.\n",
    "cb.Wp = 0.0\n",
    "cb.ep = 0.0\n",
    "#cb.wp left as is because it defines f_p\n",
    "cb.mp = 0.0\n",
    "\n"
   ]
  },
  {
   "cell_type": "code",
   "execution_count": 25,
   "metadata": {},
   "outputs": [
    {
     "data": {
      "text/plain": [
       "array([ 221.93077189,  222.06943529,  222.20809869,  222.34676209,\n",
       "        222.48542549,  222.62408889,  222.76275229,  222.90141569,\n",
       "        223.04007909,  223.17874249,  223.31740589,  223.45606929,\n",
       "        223.59473269,  223.73339609,  223.87205949,  224.01072289,\n",
       "        224.14938629,  224.28804969,  224.42671309,  224.56537649,\n",
       "        224.70403989,  224.84270329,  224.98136669,  225.12003009,\n",
       "        225.25869349,  225.39735689,  225.53602029,  225.67468369,\n",
       "        225.81334709,  225.95201049,  226.09067389,  226.22933729,\n",
       "        226.36800069,  226.50666409,  226.6453275 ,  226.7839909 ,\n",
       "        226.9226543 ,  227.0613177 ,  227.1999811 ,  227.3386445 ,\n",
       "        227.4773079 ,  227.6159713 ,  227.7546347 ,  227.8932981 ,\n",
       "        228.0319615 ,  228.1706249 ,  228.3092883 ,  228.4479517 ,\n",
       "        228.5866151 ,  228.7252785 ,  228.8639419 ,  229.0026053 ,\n",
       "        229.1412687 ,  229.2799321 ,  229.4185955 ,  229.5572589 ,\n",
       "        229.6959223 ,  229.8345857 ,  229.9732491 ,  230.1119125 ,\n",
       "        230.2505759 ,  230.3892393 ,  230.5279027 ,  230.6665661 ,\n",
       "        230.8052295 ,  230.9438929 ,  231.0825563 ,  231.2212197 ,\n",
       "        231.3598831 ,  231.4985465 ,  231.6372099 ,  231.7758733 ,\n",
       "        231.9145367 ,  232.0532001 ,  232.1918635 ,  232.3305269 ,\n",
       "        232.4691903 ,  232.6078537 ,  232.7465171 ,  232.8851805 ,\n",
       "        233.0238439 ,  233.1625073 ,  233.3011707 ,  233.4398341 ,\n",
       "        233.5784975 ,  233.7171609 ,  233.8558243 ,  233.9944877 ,\n",
       "        234.1331511 ,  234.2718145 ,  234.4104779 ,  234.5491413 ,\n",
       "        234.6878047 ,  234.8264681 ,  234.9651315 ,  235.1037949 ,\n",
       "        235.2424583 ,  235.3811217 ,  235.5197851 ,  235.6584485 ])"
      ]
     },
     "execution_count": 25,
     "metadata": {},
     "output_type": "execute_result"
    }
   ],
   "source": [
    "#now scan across m2/m1, m1+m2, p_p, f_p, as if we were searching.\n",
    "mratset = np.linspace(cb.m2/cb.m1*0.9,cb.m2/cb.m1*1.1,20)\n",
    "mtotset = np.linspace(cb.m2+cb.m1*0.5,cb.m1+cb.m2*1.5,5)\n",
    "ppset = np.linspace(p_p0*0.97,p_p0*1.03,100)\n",
    "fpset = np.linspace(cb.fp*0.98,cb.fp*1.02,10)\n",
    "\n",
    "dt = 0.02\n",
    "t = np.arange(2454953,2456424,dt)\n",
    "\n",
    "ppset"
   ]
  },
  {
   "cell_type": "code",
   "execution_count": 26,
   "metadata": {},
   "outputs": [
    {
     "name": "stdout",
     "output_type": "stream",
     "text": [
      "0.264310569813\n",
      "0.267401921507\n",
      "0.2704932732\n",
      "0.273584624894\n",
      "0.276675976588\n",
      "0.279767328282\n",
      "0.282858679975\n",
      "0.285950031669\n",
      "0.289041383363\n",
      "0.292132735056\n",
      "0.29522408675\n",
      "0.298315438444\n",
      "0.301406790138\n",
      "0.304498141831\n",
      "0.307589493525\n",
      "0.310680845219\n",
      "0.313772196912\n",
      "0.316863548606\n",
      "0.3199549003\n",
      "0.323046251994\n"
     ]
    }
   ],
   "source": [
    "tts_all = {}\n",
    "tds_all = {}\n",
    "\n",
    "#horrible for loop filling in a 7 fold dict of dicts\n",
    "for mrat in mratset:\n",
    "    print(mrat)\n",
    "    if mrat not in tts_all.keys():\n",
    "        tts_all[mrat] = {}\n",
    "        tds_all[mrat] = {}\n",
    "        \n",
    "    for mtot in mtotset:\n",
    "        cb.m2 = mtot / (1 + 1./mrat)\n",
    "        cb.m1 = mtot / (1 + mrat)\n",
    "        if mtot not in tts_all[mrat].keys():\n",
    "            tts_all[mrat][mtot] = {}\n",
    "            tds_all[mrat][mtot] = {}\n",
    "            \n",
    "        for pp in ppset:\n",
    "            cb.ap = ( mtot * (pp/365.25)**2 )**(1./3.)\n",
    "  \n",
    "            if pp not in tts_all[mrat][mtot].keys():\n",
    "                tts_all[mrat][mtot][str(pp)[:6]] = {}\n",
    "                tds_all[mrat][mtot][str(pp)[:6]] = {}  \n",
    "                \n",
    "            for fp in fpset:\n",
    "                cb.fp = fp\n",
    "                     \n",
    "                ttimes, tdurs = funcs.reb_cb_dvm(cb, 0, 2, tmin=np.min(t), \n",
    "                                                tmax=np.max(t), timing_precision=timing_precision)\n",
    "                            \n",
    "                tts_all[mrat][mtot][str(pp)[:6]][str(fp)[:6]] = ttimes[tdurs>0]\n",
    "                tds_all[mrat][mtot][str(pp)[:6]][str(fp)[:6]] = tdurs[tdurs>0]"
   ]
  },
  {
   "cell_type": "code",
   "execution_count": null,
   "metadata": {
    "collapsed": true
   },
   "outputs": [],
   "source": []
  },
  {
   "cell_type": "code",
   "execution_count": null,
   "metadata": {
    "collapsed": true
   },
   "outputs": [],
   "source": [
    "#make statistic from transit times and durs\n",
    "\n",
    "timediffs = np.array([len(mratset),len(mtotset),len(ppset),len(fpset)])\n",
    "durdiffs = np.array([len(mratset),len(mtotset),len(ppset),len(fpset)])\n",
    "losttransits = np.array([len(mratset),len(mtotset),len(ppset),len(fpset)])\n",
    "\n",
    "#horrible for loop\n",
    "for imr,mrat in enumerate(mratset):\n",
    "    for imt,mtot in enumerate(mtotset):\n",
    "        for ipp,pp in enumerate(ppset):\n",
    "            for ifp,fp in enumerate(fpset):\n",
    "                \n",
    "                #check against ref_tts\n",
    "                #save difference, in tts and tds, across all transits. \n",
    "                #save number of transits lost (or gained)\n",
    "                diff = 0\n",
    "                ddiff = 0\n",
    "                tlost = 0\n",
    "                for ref_tt,ref_td in zip(ref_tts,ref_tds):\n",
    "                    tts = tts_all[mrat][mtot][str(pp)[:6]][str(fp)[:6]]\n",
    "                    if np.min(np.abs(tts - ref_tt)) < pp/4.: #then we have a transit\n",
    "                        tidx = np.argmin(np.abs(tts - ref_tt))\n",
    "                        diff += ref_tt - tts[tidx]\n",
    "                        ddiff += ref_td - tds[tidx]\n",
    "                    else:\n",
    "                        tlost +=1\n",
    "                        \n",
    "                timediffs[imr,imt,ipp,ifp] = diff / (len(ref_tts)-tlost) #inf if we miss them all\n",
    "                durdiffs[imr,imt,ipp,ifp] = ddiff / (len(ref_tts)-tlost)\n",
    "                losttransits[imr,imt,ipp,ifp] = tlost        \n",
    "                    \n",
    "                #calculate fraction of overlap with reference?\n",
    "                "
   ]
  }
 ],
 "metadata": {
  "kernelspec": {
   "display_name": "Python 3",
   "language": "python",
   "name": "python3"
  },
  "language_info": {
   "codemirror_mode": {
    "name": "ipython",
    "version": 3
   },
   "file_extension": ".py",
   "mimetype": "text/x-python",
   "name": "python",
   "nbconvert_exporter": "python",
   "pygments_lexer": "ipython3",
   "version": "3.6.2"
  }
 },
 "nbformat": 4,
 "nbformat_minor": 2
}
